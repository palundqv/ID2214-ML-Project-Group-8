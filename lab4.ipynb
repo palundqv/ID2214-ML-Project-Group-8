{
 "cells": [
  {
   "cell_type": "code",
   "execution_count": 9,
   "metadata": {},
   "outputs": [],
   "source": [
    "import pandas as pd\n",
    "import numpy as np\n",
    "from rdkit import Chem\n",
    "from rdkit.Chem import Descriptors, AllChem, Lipinski, Fragments\n",
    "from sklearn.model_selection import train_test_split\n",
    "from sklearn.ensemble import RandomForestClassifier\n",
    "from imblearn.over_sampling import SMOTE\n",
    "from sklearn.model_selection import cross_val_score, cross_val_predict, StratifiedKFold\n",
    "from sklearn.metrics import roc_auc_score, classification_report, confusion_matrix, accuracy_score\n",
    "import DataPreprocessing as dprep\n",
    "from sklearn.impute import SimpleImputer\n",
    "import DescriptionFeaturesSelection as dsf\n",
    "from sklearn.neural_network import MLPClassifier"
   ]
  },
  {
   "cell_type": "code",
   "execution_count": 7,
   "metadata": {},
   "outputs": [],
   "source": [
    "training_data_path = 'training_smiles.csv'\n",
    "test_data_path = 'test_smiles.csv'\n",
    "\n",
    "training_data = pd.read_csv(training_data_path, dtype = {'ACTIVE': int})\n",
    "test_data = pd.read_csv(test_data_path)"
   ]
  },
  {
   "cell_type": "code",
   "execution_count": 8,
   "metadata": {},
   "outputs": [
    {
     "name": "stderr",
     "output_type": "stream",
     "text": [
      "[11:47:46] WARNING: not removing hydrogen atom without neighbors\n"
     ]
    }
   ],
   "source": [
    "def extract_fingerprints(smiles):\n",
    "    mol = Chem.MolFromSmiles(smiles)\n",
    "\n",
    "    features = {}\n",
    "\n",
    "    # Try nBits 2048, 1024, 512, 256\n",
    "    # Morgan Fingerprint\n",
    "    morgan_fp = AllChem.GetMorganFingerprintAsBitVect(mol, 2, nBits=512)\n",
    "    for i in range(512):\n",
    "        features[f'fp_{i}'] = morgan_fp[i]\n",
    "\n",
    "    return features\n",
    "\n",
    "\n",
    "    \n",
    "training_features_df = training_data['SMILES'].apply(extract_fingerprints)\n",
    "\n",
    "training_features_df = training_features_df.apply(pd.Series)\n",
    "\n",
    "training_data_fingerprint = training_data.join(training_features_df)\n",
    "\n",
    "training_data_fingerprint.to_csv('training_data_fingerprint.csv', index=False)\n"
   ]
  },
  {
   "cell_type": "code",
   "execution_count": 9,
   "metadata": {},
   "outputs": [
    {
     "name": "stderr",
     "output_type": "stream",
     "text": [
      "[12:30:17] WARNING: not removing hydrogen atom without neighbors\n",
      "[12:30:17] WARNING: not removing hydrogen atom without neighbors\n",
      "[12:30:17] WARNING: not removing hydrogen atom without neighbors\n"
     ]
    }
   ],
   "source": [
    "\n",
    "def extract_features(smiles):\n",
    "\n",
    "    mol = Chem.MolFromSmiles(smiles)\n",
    "\n",
    "    features = {}\n",
    "\n",
    "    # Basic Properties\n",
    "    features['num_atoms'] = mol.GetNumAtoms()\n",
    "    features['num_bonds'] = mol.GetNumBonds()\n",
    "    features['num_rings'] = mol.GetRingInfo().NumRings()\n",
    "\n",
    "    # Molecular Descriptors\n",
    "    for desc_name, desc_func in Descriptors.descList:\n",
    "        features[desc_name] = desc_func(mol)\n",
    "\n",
    "    # Lipinski Descriptors\n",
    "    features['num_rotatable_bonds'] = Lipinski.NumRotatableBonds(mol)\n",
    "    features['num_aromatic_rings'] = Lipinski.NumAromaticRings(mol)\n",
    "    features['num_heteroatoms'] = Lipinski.NumHeteroatoms(mol)\n",
    "    features['num_heavy_atoms'] = Lipinski.HeavyAtomCount(mol)\n",
    "    features['num_h_donors'] = Lipinski.NumHDonors(mol)\n",
    "    features['num_h_acceptors'] = Lipinski.NumHAcceptors(mol)\n",
    "    features['num_aliphatic_rings'] = Lipinski.NumAliphaticRings(mol)\n",
    "    features['num_saturated_rings'] = Lipinski.NumSaturatedRings(mol)\n",
    "    features['num_aromatic_heterocycles'] = Lipinski.NumAromaticHeterocycles(mol)\n",
    "    features['num_aromatic_carbocycles'] = Lipinski.NumAromaticCarbocycles(mol)\n",
    "    features['num_aliphatic_heterocycles'] = Lipinski.NumAliphaticHeterocycles(mol)\n",
    "    features['num_aliphatic_carbocycles'] = Lipinski.NumAliphaticCarbocycles(mol)\n",
    "\n",
    "    # Fragment Descriptors\n",
    "    for frag_func in dir(Fragments):\n",
    "        if frag_func.startswith('fr_'):\n",
    "            features[frag_func] = getattr(Fragments, frag_func)(mol)\n",
    "\n",
    "\n",
    "    return features\n",
    "\n",
    "training_features_df = training_data['SMILES'].apply(extract_features)\n",
    "\n",
    "training_features_df = training_features_df.apply(pd.Series)\n",
    "\n",
    "training_data_features = training_data.join(training_features_df)\n",
    "\n",
    "training_data_features.to_csv('training_data_features.csv', index=False)\n",
    "\n"
   ]
  },
  {
   "cell_type": "code",
   "execution_count": 4,
   "metadata": {},
   "outputs": [],
   "source": [
    "\"\"\" # Load the datasets\n",
    "fingerprint_df = pd.read_csv('training_data_fingerprint.csv')\n",
    "other_features_df = pd.read_csv('training_data_207_features.csv')\n",
    "\n",
    "# Combine datasets\n",
    "combined_df = pd.concat([fingerprint_df, other_features_df], axis=1) \"\"\"\n",
    "\n",
    "training_data = pd.read_csv('csvData/training_merged_fingerprints207.csv')\n",
    "\n",
    "training_data, column_filter = dprep.create_column_filter(training_data)\n",
    "training_data, imputation = dprep.create_imputation(training_data)\n",
    "\n",
    "\n",
    "# Select only numeric columns for imputation\n",
    "#numeric_cols = combined_df.select_dtypes(include=[np.number]).columns\n",
    "#numeric_df = combined_df[numeric_cols]\n",
    "\n",
    "#simple_imputer = SimpleImputer(missing_values=np.nan, strategy='mean')\n",
    "#numeric_df_imputed = pd.DataFrame(simple_imputer.fit_transform(numeric_df), columns=numeric_df.columns)\n",
    "\n",
    "\n",
    "#training_data = pd.concat([combined_df.drop(columns=numeric_cols), numeric_df_imputed], axis=1)\n",
    "\n",
    "\n",
    "X = training_data.drop(columns=[\"INDEX\", \"ACTIVE\"])\n",
    "y = training_data[\"ACTIVE\"]\n"
   ]
  },
  {
   "cell_type": "code",
   "execution_count": 7,
   "metadata": {},
   "outputs": [
    {
     "name": "stdout",
     "output_type": "stream",
     "text": [
      "               Feature  Importance\n",
      "537       BCUT2D_MRLOW    0.009636\n",
      "512  MaxAbsEStateIndex    0.008735\n",
      "515     MinEStateIndex    0.008680\n",
      "514  MinAbsEStateIndex    0.008660\n",
      "513     MaxEStateIndex    0.008062\n"
     ]
    }
   ],
   "source": [
    "rf_clf = RandomForestClassifier(n_estimators=100, random_state=42)\n",
    "\n",
    "rf_clf.fit(X, y)\n",
    "\n",
    "importances = rf_clf.feature_importances_\n",
    "\n",
    "feature_importance_df = pd.DataFrame({\n",
    "    'Feature': X.columns,\n",
    "    'Importance': importances\n",
    "})\n",
    "\n",
    "feature_importance_df = feature_importance_df.sort_values(by='Importance', ascending=False)\n",
    "\n",
    "feature_importance_df.to_csv('feature_importances.csv', index=False)\n",
    "\n",
    "print(feature_importance_df.head())\n"
   ]
  },
  {
   "cell_type": "code",
   "execution_count": 10,
   "metadata": {},
   "outputs": [],
   "source": [
    "def manual_crossValidation(training, training_lables, number_of_features = 50, use_classifier=\"randomForest\", sampling=\"smote\"):\n",
    "    if use_classifier == \"randomForest\":\n",
    "        classifier = RandomForestClassifier(bootstrap=True, max_depth=40, min_samples_leaf=2,min_samples_split=2,n_estimators=200,class_weight=\"balanced\",random_state=42)\n",
    "    elif use_classifier == \"MLP\":\n",
    "        classifier = MLPClassifier(activation = 'relu',alpha= 0.0001, hidden_layer_sizes=(50,))\n",
    "    else:\n",
    "        print(\"Invalid classifier specified:\")\n",
    "        return\n",
    "    \n",
    "    X = training.copy()\n",
    "    y = training_lables.copy()\n",
    "\n",
    "    # Set up cross-validation\n",
    "    kf = StratifiedKFold(n_splits=5, shuffle=True, random_state=42)\n",
    "\n",
    "    accuracies = []\n",
    "    auc_scores = []\n",
    "    confusion_matrices = []\n",
    "\n",
    "    for train_index, test_index in kf.split(X, y):\n",
    "        X_train, X_test = X.iloc[train_index], X.iloc[test_index]\n",
    "        y_train, y_test = y.iloc[train_index], y.iloc[test_index]\n",
    "\n",
    "        n_best_features = dsf.select_n_best_features_randomForestImportance(X_train, y_train, n_features=number_of_features) ## should be moved into the fold calculation loop\n",
    "        X_train = X_train[list(n_best_features.keys())]\n",
    "        X_test = X_test[list(n_best_features.keys())]\n",
    "\n",
    "\n",
    "        if sampling==\"smote\":\n",
    "            # Apply SMOTE to the training set\n",
    "            smote = SMOTE(sampling_strategy='auto', random_state=42)\n",
    "            X_train_resampled, y_train_resampled = smote.fit_resample(X_train, y_train)\n",
    "        elif sampling==\"under\":\n",
    "            X_train_resampled, y_train_resampled = new_balance_labels_down(X_train, y_train)\n",
    "        else:\n",
    "            X_train_resampled, y_train_resampled = X_train, y_train\n",
    "\n",
    "        classifier.fit(X_train_resampled, y_train_resampled)\n",
    "        y_pred = classifier.predict(X_test)\n",
    "\n",
    "        accuracy = accuracy_score(y_test, y_pred)\n",
    "        auc_score = roc_auc_score(y_test, classifier.predict_proba(X_test)[:, 1])\n",
    "        cm = confusion_matrix(y_test, y_pred)\n",
    "\n",
    "        accuracies.append(accuracy)\n",
    "        auc_scores.append(auc_score)\n",
    "        confusion_matrices.append(cm)\n",
    "\n",
    "    avg_auc_score = np.mean(auc_scores)\n",
    "    avg_confusion_matrix = np.mean(confusion_matrices, axis=0)\n",
    "    class_report = classification_report(y_test, y_pred)\n",
    "\n",
    "    return {\n",
    "        'average_auc_score': avg_auc_score,\n",
    "        'confusion_matrix': avg_confusion_matrix,\n",
    "        'classification_report': class_report\n",
    "    }"
   ]
  },
  {
   "cell_type": "code",
   "execution_count": 11,
   "metadata": {},
   "outputs": [],
   "source": [
    "def new_balance_labels_down(X,y):\n",
    "    df = pd.concat([pd.DataFrame(X), pd.Series(y, name='label')], axis=1)\n",
    "\n",
    "    original_counts = df['label'].value_counts()\n",
    "    print(\"Original Label Counts:\")\n",
    "    print(original_counts)\n",
    "\n",
    "    minority_label = original_counts.idxmin()\n",
    "    majority_label = original_counts.idxmax()\n",
    "\n",
    "    label_difference = original_counts[majority_label] - original_counts[minority_label]\n",
    "\n",
    "    if label_difference == 0:\n",
    "        print(\"Labels are already balanced.\")\n",
    "        return X, y\n",
    "\n",
    "    majority_indices = df[df['label'] == majority_label].index\n",
    "    indices_to_remove = np.random.choice(majority_indices, size=label_difference, replace=False)\n",
    "\n",
    "    balanced_df = df.drop(indices_to_remove)\n",
    "\n",
    "    new_counts = balanced_df['label'].value_counts()\n",
    "    print(\"\\nNew Label Counts:\")\n",
    "    print(new_counts)\n",
    "    return balanced_df.drop('label', axis=1).values, balanced_df['label'].values"
   ]
  },
  {
   "cell_type": "code",
   "execution_count": 12,
   "metadata": {},
   "outputs": [
    {
     "name": "stdout",
     "output_type": "stream",
     "text": [
      "Original Label Counts:\n",
      "label\n",
      "0.0    121156\n",
      "1.0      1428\n",
      "Name: count, dtype: int64\n",
      "\n",
      "New Label Counts:\n",
      "label\n",
      "1.0    1428\n",
      "0.0    1428\n",
      "Name: count, dtype: int64\n"
     ]
    },
    {
     "name": "stderr",
     "output_type": "stream",
     "text": [
      "C:\\Users\\hyde1\\AppData\\Roaming\\Python\\Python311\\site-packages\\sklearn\\base.py:458: UserWarning: X has feature names, but RandomForestClassifier was fitted without feature names\n",
      "  warnings.warn(\n",
      "C:\\Users\\hyde1\\AppData\\Roaming\\Python\\Python311\\site-packages\\sklearn\\base.py:458: UserWarning: X has feature names, but RandomForestClassifier was fitted without feature names\n",
      "  warnings.warn(\n"
     ]
    },
    {
     "name": "stdout",
     "output_type": "stream",
     "text": [
      "Original Label Counts:\n",
      "label\n",
      "0.0    121157\n",
      "1.0      1427\n",
      "Name: count, dtype: int64\n",
      "\n",
      "New Label Counts:\n",
      "label\n",
      "0.0    1427\n",
      "1.0    1427\n",
      "Name: count, dtype: int64\n"
     ]
    },
    {
     "name": "stderr",
     "output_type": "stream",
     "text": [
      "C:\\Users\\hyde1\\AppData\\Roaming\\Python\\Python311\\site-packages\\sklearn\\base.py:458: UserWarning: X has feature names, but RandomForestClassifier was fitted without feature names\n",
      "  warnings.warn(\n",
      "C:\\Users\\hyde1\\AppData\\Roaming\\Python\\Python311\\site-packages\\sklearn\\base.py:458: UserWarning: X has feature names, but RandomForestClassifier was fitted without feature names\n",
      "  warnings.warn(\n"
     ]
    },
    {
     "name": "stdout",
     "output_type": "stream",
     "text": [
      "Original Label Counts:\n",
      "label\n",
      "0.0    121157\n",
      "1.0      1427\n",
      "Name: count, dtype: int64\n",
      "\n",
      "New Label Counts:\n",
      "label\n",
      "0.0    1427\n",
      "1.0    1427\n",
      "Name: count, dtype: int64\n"
     ]
    },
    {
     "name": "stderr",
     "output_type": "stream",
     "text": [
      "C:\\Users\\hyde1\\AppData\\Roaming\\Python\\Python311\\site-packages\\sklearn\\base.py:458: UserWarning: X has feature names, but RandomForestClassifier was fitted without feature names\n",
      "  warnings.warn(\n",
      "C:\\Users\\hyde1\\AppData\\Roaming\\Python\\Python311\\site-packages\\sklearn\\base.py:458: UserWarning: X has feature names, but RandomForestClassifier was fitted without feature names\n",
      "  warnings.warn(\n"
     ]
    },
    {
     "name": "stdout",
     "output_type": "stream",
     "text": [
      "Original Label Counts:\n",
      "label\n",
      "0.0    121157\n",
      "1.0      1427\n",
      "Name: count, dtype: int64\n",
      "\n",
      "New Label Counts:\n",
      "label\n",
      "0.0    1427\n",
      "1.0    1427\n",
      "Name: count, dtype: int64\n"
     ]
    },
    {
     "name": "stderr",
     "output_type": "stream",
     "text": [
      "C:\\Users\\hyde1\\AppData\\Roaming\\Python\\Python311\\site-packages\\sklearn\\base.py:458: UserWarning: X has feature names, but RandomForestClassifier was fitted without feature names\n",
      "  warnings.warn(\n",
      "C:\\Users\\hyde1\\AppData\\Roaming\\Python\\Python311\\site-packages\\sklearn\\base.py:458: UserWarning: X has feature names, but RandomForestClassifier was fitted without feature names\n",
      "  warnings.warn(\n"
     ]
    },
    {
     "name": "stdout",
     "output_type": "stream",
     "text": [
      "Original Label Counts:\n",
      "label\n",
      "0.0    121157\n",
      "1.0      1427\n",
      "Name: count, dtype: int64\n",
      "\n",
      "New Label Counts:\n",
      "label\n",
      "1.0    1427\n",
      "0.0    1427\n",
      "Name: count, dtype: int64\n"
     ]
    },
    {
     "name": "stderr",
     "output_type": "stream",
     "text": [
      "C:\\Users\\hyde1\\AppData\\Roaming\\Python\\Python311\\site-packages\\sklearn\\base.py:458: UserWarning: X has feature names, but RandomForestClassifier was fitted without feature names\n",
      "  warnings.warn(\n",
      "C:\\Users\\hyde1\\AppData\\Roaming\\Python\\Python311\\site-packages\\sklearn\\base.py:458: UserWarning: X has feature names, but RandomForestClassifier was fitted without feature names\n",
      "  warnings.warn(\n"
     ]
    },
    {
     "name": "stdout",
     "output_type": "stream",
     "text": [
      "Random-Forest with SMOTE:  0.7210969505964713\n",
      "Random-Forest no SMOTE:  0.7322540120469025\n"
     ]
    },
    {
     "name": "stderr",
     "output_type": "stream",
     "text": [
      "C:\\Users\\hyde1\\AppData\\Roaming\\Python\\Python311\\site-packages\\sklearn\\neural_network\\_multilayer_perceptron.py:691: ConvergenceWarning: Stochastic Optimizer: Maximum iterations (200) reached and the optimization hasn't converged yet.\n",
      "  warnings.warn(\n",
      "C:\\Users\\hyde1\\AppData\\Roaming\\Python\\Python311\\site-packages\\sklearn\\neural_network\\_multilayer_perceptron.py:691: ConvergenceWarning: Stochastic Optimizer: Maximum iterations (200) reached and the optimization hasn't converged yet.\n",
      "  warnings.warn(\n",
      "C:\\Users\\hyde1\\AppData\\Roaming\\Python\\Python311\\site-packages\\sklearn\\neural_network\\_multilayer_perceptron.py:691: ConvergenceWarning: Stochastic Optimizer: Maximum iterations (200) reached and the optimization hasn't converged yet.\n",
      "  warnings.warn(\n",
      "C:\\Users\\hyde1\\AppData\\Roaming\\Python\\Python311\\site-packages\\sklearn\\neural_network\\_multilayer_perceptron.py:691: ConvergenceWarning: Stochastic Optimizer: Maximum iterations (200) reached and the optimization hasn't converged yet.\n",
      "  warnings.warn(\n",
      "C:\\Users\\hyde1\\AppData\\Roaming\\Python\\Python311\\site-packages\\sklearn\\neural_network\\_multilayer_perceptron.py:691: ConvergenceWarning: Stochastic Optimizer: Maximum iterations (200) reached and the optimization hasn't converged yet.\n",
      "  warnings.warn(\n"
     ]
    },
    {
     "name": "stdout",
     "output_type": "stream",
     "text": [
      "Original Label Counts:\n",
      "label\n",
      "0.0    121156\n",
      "1.0      1428\n",
      "Name: count, dtype: int64\n",
      "\n",
      "New Label Counts:\n",
      "label\n",
      "0.0    1428\n",
      "1.0    1428\n",
      "Name: count, dtype: int64\n"
     ]
    },
    {
     "name": "stderr",
     "output_type": "stream",
     "text": [
      "C:\\Users\\hyde1\\AppData\\Roaming\\Python\\Python311\\site-packages\\sklearn\\base.py:458: UserWarning: X has feature names, but MLPClassifier was fitted without feature names\n",
      "  warnings.warn(\n",
      "C:\\Users\\hyde1\\AppData\\Roaming\\Python\\Python311\\site-packages\\sklearn\\base.py:458: UserWarning: X has feature names, but MLPClassifier was fitted without feature names\n",
      "  warnings.warn(\n"
     ]
    },
    {
     "name": "stdout",
     "output_type": "stream",
     "text": [
      "Original Label Counts:\n",
      "label\n",
      "0.0    121157\n",
      "1.0      1427\n",
      "Name: count, dtype: int64\n",
      "\n",
      "New Label Counts:\n",
      "label\n",
      "1.0    1427\n",
      "0.0    1427\n",
      "Name: count, dtype: int64\n"
     ]
    },
    {
     "name": "stderr",
     "output_type": "stream",
     "text": [
      "C:\\Users\\hyde1\\AppData\\Roaming\\Python\\Python311\\site-packages\\sklearn\\base.py:458: UserWarning: X has feature names, but MLPClassifier was fitted without feature names\n",
      "  warnings.warn(\n",
      "C:\\Users\\hyde1\\AppData\\Roaming\\Python\\Python311\\site-packages\\sklearn\\base.py:458: UserWarning: X has feature names, but MLPClassifier was fitted without feature names\n",
      "  warnings.warn(\n"
     ]
    },
    {
     "name": "stdout",
     "output_type": "stream",
     "text": [
      "Original Label Counts:\n",
      "label\n",
      "0.0    121157\n",
      "1.0      1427\n",
      "Name: count, dtype: int64\n",
      "\n",
      "New Label Counts:\n",
      "label\n",
      "0.0    1427\n",
      "1.0    1427\n",
      "Name: count, dtype: int64\n"
     ]
    },
    {
     "name": "stderr",
     "output_type": "stream",
     "text": [
      "C:\\Users\\hyde1\\AppData\\Roaming\\Python\\Python311\\site-packages\\sklearn\\base.py:458: UserWarning: X has feature names, but MLPClassifier was fitted without feature names\n",
      "  warnings.warn(\n",
      "C:\\Users\\hyde1\\AppData\\Roaming\\Python\\Python311\\site-packages\\sklearn\\base.py:458: UserWarning: X has feature names, but MLPClassifier was fitted without feature names\n",
      "  warnings.warn(\n"
     ]
    },
    {
     "name": "stdout",
     "output_type": "stream",
     "text": [
      "Original Label Counts:\n",
      "label\n",
      "0.0    121157\n",
      "1.0      1427\n",
      "Name: count, dtype: int64\n",
      "\n",
      "New Label Counts:\n",
      "label\n",
      "1.0    1427\n",
      "0.0    1427\n",
      "Name: count, dtype: int64\n"
     ]
    },
    {
     "name": "stderr",
     "output_type": "stream",
     "text": [
      "C:\\Users\\hyde1\\AppData\\Roaming\\Python\\Python311\\site-packages\\sklearn\\base.py:458: UserWarning: X has feature names, but MLPClassifier was fitted without feature names\n",
      "  warnings.warn(\n",
      "C:\\Users\\hyde1\\AppData\\Roaming\\Python\\Python311\\site-packages\\sklearn\\base.py:458: UserWarning: X has feature names, but MLPClassifier was fitted without feature names\n",
      "  warnings.warn(\n"
     ]
    },
    {
     "name": "stdout",
     "output_type": "stream",
     "text": [
      "Original Label Counts:\n",
      "label\n",
      "0.0    121157\n",
      "1.0      1427\n",
      "Name: count, dtype: int64\n",
      "\n",
      "New Label Counts:\n",
      "label\n",
      "1.0    1427\n",
      "0.0    1427\n",
      "Name: count, dtype: int64\n"
     ]
    },
    {
     "name": "stderr",
     "output_type": "stream",
     "text": [
      "C:\\Users\\hyde1\\AppData\\Roaming\\Python\\Python311\\site-packages\\sklearn\\base.py:458: UserWarning: X has feature names, but MLPClassifier was fitted without feature names\n",
      "  warnings.warn(\n",
      "C:\\Users\\hyde1\\AppData\\Roaming\\Python\\Python311\\site-packages\\sklearn\\base.py:458: UserWarning: X has feature names, but MLPClassifier was fitted without feature names\n",
      "  warnings.warn(\n"
     ]
    },
    {
     "name": "stdout",
     "output_type": "stream",
     "text": [
      "MLP with SMOTE:  0.6376834154151859\n",
      "MLP no SMOTE:  0.6700174533209807\n",
      "Original Label Counts:\n",
      "label\n",
      "0.0    121156\n",
      "1.0      1428\n",
      "Name: count, dtype: int64\n",
      "\n",
      "New Label Counts:\n",
      "label\n",
      "0.0    1428\n",
      "1.0    1428\n",
      "Name: count, dtype: int64\n"
     ]
    },
    {
     "name": "stderr",
     "output_type": "stream",
     "text": [
      "C:\\Users\\hyde1\\AppData\\Roaming\\Python\\Python311\\site-packages\\sklearn\\base.py:458: UserWarning: X has feature names, but RandomForestClassifier was fitted without feature names\n",
      "  warnings.warn(\n",
      "C:\\Users\\hyde1\\AppData\\Roaming\\Python\\Python311\\site-packages\\sklearn\\base.py:458: UserWarning: X has feature names, but RandomForestClassifier was fitted without feature names\n",
      "  warnings.warn(\n"
     ]
    },
    {
     "name": "stdout",
     "output_type": "stream",
     "text": [
      "Original Label Counts:\n",
      "label\n",
      "0.0    121157\n",
      "1.0      1427\n",
      "Name: count, dtype: int64\n",
      "\n",
      "New Label Counts:\n",
      "label\n",
      "1.0    1427\n",
      "0.0    1427\n",
      "Name: count, dtype: int64\n"
     ]
    },
    {
     "name": "stderr",
     "output_type": "stream",
     "text": [
      "C:\\Users\\hyde1\\AppData\\Roaming\\Python\\Python311\\site-packages\\sklearn\\base.py:458: UserWarning: X has feature names, but RandomForestClassifier was fitted without feature names\n",
      "  warnings.warn(\n",
      "C:\\Users\\hyde1\\AppData\\Roaming\\Python\\Python311\\site-packages\\sklearn\\base.py:458: UserWarning: X has feature names, but RandomForestClassifier was fitted without feature names\n",
      "  warnings.warn(\n"
     ]
    },
    {
     "name": "stdout",
     "output_type": "stream",
     "text": [
      "Original Label Counts:\n",
      "label\n",
      "0.0    121157\n",
      "1.0      1427\n",
      "Name: count, dtype: int64\n",
      "\n",
      "New Label Counts:\n",
      "label\n",
      "0.0    1427\n",
      "1.0    1427\n",
      "Name: count, dtype: int64\n"
     ]
    },
    {
     "name": "stderr",
     "output_type": "stream",
     "text": [
      "C:\\Users\\hyde1\\AppData\\Roaming\\Python\\Python311\\site-packages\\sklearn\\base.py:458: UserWarning: X has feature names, but RandomForestClassifier was fitted without feature names\n",
      "  warnings.warn(\n",
      "C:\\Users\\hyde1\\AppData\\Roaming\\Python\\Python311\\site-packages\\sklearn\\base.py:458: UserWarning: X has feature names, but RandomForestClassifier was fitted without feature names\n",
      "  warnings.warn(\n"
     ]
    },
    {
     "name": "stdout",
     "output_type": "stream",
     "text": [
      "Original Label Counts:\n",
      "label\n",
      "0.0    121157\n",
      "1.0      1427\n",
      "Name: count, dtype: int64\n",
      "\n",
      "New Label Counts:\n",
      "label\n",
      "1.0    1427\n",
      "0.0    1427\n",
      "Name: count, dtype: int64\n"
     ]
    },
    {
     "name": "stderr",
     "output_type": "stream",
     "text": [
      "C:\\Users\\hyde1\\AppData\\Roaming\\Python\\Python311\\site-packages\\sklearn\\base.py:458: UserWarning: X has feature names, but RandomForestClassifier was fitted without feature names\n",
      "  warnings.warn(\n",
      "C:\\Users\\hyde1\\AppData\\Roaming\\Python\\Python311\\site-packages\\sklearn\\base.py:458: UserWarning: X has feature names, but RandomForestClassifier was fitted without feature names\n",
      "  warnings.warn(\n"
     ]
    },
    {
     "name": "stdout",
     "output_type": "stream",
     "text": [
      "Original Label Counts:\n",
      "label\n",
      "0.0    121157\n",
      "1.0      1427\n",
      "Name: count, dtype: int64\n",
      "\n",
      "New Label Counts:\n",
      "label\n",
      "1.0    1427\n",
      "0.0    1427\n",
      "Name: count, dtype: int64\n"
     ]
    },
    {
     "name": "stderr",
     "output_type": "stream",
     "text": [
      "C:\\Users\\hyde1\\AppData\\Roaming\\Python\\Python311\\site-packages\\sklearn\\base.py:458: UserWarning: X has feature names, but RandomForestClassifier was fitted without feature names\n",
      "  warnings.warn(\n",
      "C:\\Users\\hyde1\\AppData\\Roaming\\Python\\Python311\\site-packages\\sklearn\\base.py:458: UserWarning: X has feature names, but RandomForestClassifier was fitted without feature names\n",
      "  warnings.warn(\n"
     ]
    },
    {
     "name": "stdout",
     "output_type": "stream",
     "text": [
      "Random-Forest with SMOTE:  0.765016080705721\n",
      "Random-Forest no SMOTE:  0.7595262069858734\n"
     ]
    },
    {
     "name": "stderr",
     "output_type": "stream",
     "text": [
      "C:\\Users\\hyde1\\AppData\\Roaming\\Python\\Python311\\site-packages\\sklearn\\neural_network\\_multilayer_perceptron.py:691: ConvergenceWarning: Stochastic Optimizer: Maximum iterations (200) reached and the optimization hasn't converged yet.\n",
      "  warnings.warn(\n",
      "C:\\Users\\hyde1\\AppData\\Roaming\\Python\\Python311\\site-packages\\sklearn\\neural_network\\_multilayer_perceptron.py:691: ConvergenceWarning: Stochastic Optimizer: Maximum iterations (200) reached and the optimization hasn't converged yet.\n",
      "  warnings.warn(\n",
      "C:\\Users\\hyde1\\AppData\\Roaming\\Python\\Python311\\site-packages\\sklearn\\neural_network\\_multilayer_perceptron.py:691: ConvergenceWarning: Stochastic Optimizer: Maximum iterations (200) reached and the optimization hasn't converged yet.\n",
      "  warnings.warn(\n",
      "C:\\Users\\hyde1\\AppData\\Roaming\\Python\\Python311\\site-packages\\sklearn\\neural_network\\_multilayer_perceptron.py:691: ConvergenceWarning: Stochastic Optimizer: Maximum iterations (200) reached and the optimization hasn't converged yet.\n",
      "  warnings.warn(\n",
      "C:\\Users\\hyde1\\AppData\\Roaming\\Python\\Python311\\site-packages\\sklearn\\neural_network\\_multilayer_perceptron.py:691: ConvergenceWarning: Stochastic Optimizer: Maximum iterations (200) reached and the optimization hasn't converged yet.\n",
      "  warnings.warn(\n"
     ]
    },
    {
     "name": "stdout",
     "output_type": "stream",
     "text": [
      "Original Label Counts:\n",
      "label\n",
      "0.0    121156\n",
      "1.0      1428\n",
      "Name: count, dtype: int64\n",
      "\n",
      "New Label Counts:\n",
      "label\n",
      "1.0    1428\n",
      "0.0    1428\n",
      "Name: count, dtype: int64\n"
     ]
    },
    {
     "name": "stderr",
     "output_type": "stream",
     "text": [
      "C:\\Users\\hyde1\\AppData\\Roaming\\Python\\Python311\\site-packages\\sklearn\\base.py:458: UserWarning: X has feature names, but MLPClassifier was fitted without feature names\n",
      "  warnings.warn(\n",
      "C:\\Users\\hyde1\\AppData\\Roaming\\Python\\Python311\\site-packages\\sklearn\\base.py:458: UserWarning: X has feature names, but MLPClassifier was fitted without feature names\n",
      "  warnings.warn(\n"
     ]
    },
    {
     "name": "stdout",
     "output_type": "stream",
     "text": [
      "Original Label Counts:\n",
      "label\n",
      "0.0    121157\n",
      "1.0      1427\n",
      "Name: count, dtype: int64\n",
      "\n",
      "New Label Counts:\n",
      "label\n",
      "1.0    1427\n",
      "0.0    1427\n",
      "Name: count, dtype: int64\n"
     ]
    },
    {
     "name": "stderr",
     "output_type": "stream",
     "text": [
      "C:\\Users\\hyde1\\AppData\\Roaming\\Python\\Python311\\site-packages\\sklearn\\base.py:458: UserWarning: X has feature names, but MLPClassifier was fitted without feature names\n",
      "  warnings.warn(\n",
      "C:\\Users\\hyde1\\AppData\\Roaming\\Python\\Python311\\site-packages\\sklearn\\base.py:458: UserWarning: X has feature names, but MLPClassifier was fitted without feature names\n",
      "  warnings.warn(\n"
     ]
    },
    {
     "name": "stdout",
     "output_type": "stream",
     "text": [
      "Original Label Counts:\n",
      "label\n",
      "0.0    121157\n",
      "1.0      1427\n",
      "Name: count, dtype: int64\n",
      "\n",
      "New Label Counts:\n",
      "label\n",
      "0.0    1427\n",
      "1.0    1427\n",
      "Name: count, dtype: int64\n"
     ]
    },
    {
     "name": "stderr",
     "output_type": "stream",
     "text": [
      "C:\\Users\\hyde1\\AppData\\Roaming\\Python\\Python311\\site-packages\\sklearn\\neural_network\\_multilayer_perceptron.py:691: ConvergenceWarning: Stochastic Optimizer: Maximum iterations (200) reached and the optimization hasn't converged yet.\n",
      "  warnings.warn(\n",
      "C:\\Users\\hyde1\\AppData\\Roaming\\Python\\Python311\\site-packages\\sklearn\\base.py:458: UserWarning: X has feature names, but MLPClassifier was fitted without feature names\n",
      "  warnings.warn(\n",
      "C:\\Users\\hyde1\\AppData\\Roaming\\Python\\Python311\\site-packages\\sklearn\\base.py:458: UserWarning: X has feature names, but MLPClassifier was fitted without feature names\n",
      "  warnings.warn(\n"
     ]
    },
    {
     "name": "stdout",
     "output_type": "stream",
     "text": [
      "Original Label Counts:\n",
      "label\n",
      "0.0    121157\n",
      "1.0      1427\n",
      "Name: count, dtype: int64\n",
      "\n",
      "New Label Counts:\n",
      "label\n",
      "1.0    1427\n",
      "0.0    1427\n",
      "Name: count, dtype: int64\n"
     ]
    },
    {
     "name": "stderr",
     "output_type": "stream",
     "text": [
      "C:\\Users\\hyde1\\AppData\\Roaming\\Python\\Python311\\site-packages\\sklearn\\base.py:458: UserWarning: X has feature names, but MLPClassifier was fitted without feature names\n",
      "  warnings.warn(\n",
      "C:\\Users\\hyde1\\AppData\\Roaming\\Python\\Python311\\site-packages\\sklearn\\base.py:458: UserWarning: X has feature names, but MLPClassifier was fitted without feature names\n",
      "  warnings.warn(\n"
     ]
    },
    {
     "name": "stdout",
     "output_type": "stream",
     "text": [
      "Original Label Counts:\n",
      "label\n",
      "0.0    121157\n",
      "1.0      1427\n",
      "Name: count, dtype: int64\n",
      "\n",
      "New Label Counts:\n",
      "label\n",
      "1.0    1427\n",
      "0.0    1427\n",
      "Name: count, dtype: int64\n"
     ]
    },
    {
     "name": "stderr",
     "output_type": "stream",
     "text": [
      "C:\\Users\\hyde1\\AppData\\Roaming\\Python\\Python311\\site-packages\\sklearn\\base.py:458: UserWarning: X has feature names, but MLPClassifier was fitted without feature names\n",
      "  warnings.warn(\n",
      "C:\\Users\\hyde1\\AppData\\Roaming\\Python\\Python311\\site-packages\\sklearn\\base.py:458: UserWarning: X has feature names, but MLPClassifier was fitted without feature names\n",
      "  warnings.warn(\n"
     ]
    },
    {
     "name": "stdout",
     "output_type": "stream",
     "text": [
      "MLP with SMOTE:  0.6592256348302721\n",
      "MLP no SMOTE:  0.6783573437772463\n",
      "Original Label Counts:\n",
      "label\n",
      "0.0    121156\n",
      "1.0      1428\n",
      "Name: count, dtype: int64\n",
      "\n",
      "New Label Counts:\n",
      "label\n",
      "1.0    1428\n",
      "0.0    1428\n",
      "Name: count, dtype: int64\n"
     ]
    },
    {
     "name": "stderr",
     "output_type": "stream",
     "text": [
      "C:\\Users\\hyde1\\AppData\\Roaming\\Python\\Python311\\site-packages\\sklearn\\base.py:458: UserWarning: X has feature names, but RandomForestClassifier was fitted without feature names\n",
      "  warnings.warn(\n",
      "C:\\Users\\hyde1\\AppData\\Roaming\\Python\\Python311\\site-packages\\sklearn\\base.py:458: UserWarning: X has feature names, but RandomForestClassifier was fitted without feature names\n",
      "  warnings.warn(\n"
     ]
    },
    {
     "name": "stdout",
     "output_type": "stream",
     "text": [
      "Original Label Counts:\n",
      "label\n",
      "0.0    121157\n",
      "1.0      1427\n",
      "Name: count, dtype: int64\n",
      "\n",
      "New Label Counts:\n",
      "label\n",
      "1.0    1427\n",
      "0.0    1427\n",
      "Name: count, dtype: int64\n"
     ]
    },
    {
     "name": "stderr",
     "output_type": "stream",
     "text": [
      "C:\\Users\\hyde1\\AppData\\Roaming\\Python\\Python311\\site-packages\\sklearn\\base.py:458: UserWarning: X has feature names, but RandomForestClassifier was fitted without feature names\n",
      "  warnings.warn(\n",
      "C:\\Users\\hyde1\\AppData\\Roaming\\Python\\Python311\\site-packages\\sklearn\\base.py:458: UserWarning: X has feature names, but RandomForestClassifier was fitted without feature names\n",
      "  warnings.warn(\n"
     ]
    },
    {
     "name": "stdout",
     "output_type": "stream",
     "text": [
      "Original Label Counts:\n",
      "label\n",
      "0.0    121157\n",
      "1.0      1427\n",
      "Name: count, dtype: int64\n",
      "\n",
      "New Label Counts:\n",
      "label\n",
      "0.0    1427\n",
      "1.0    1427\n",
      "Name: count, dtype: int64\n"
     ]
    },
    {
     "name": "stderr",
     "output_type": "stream",
     "text": [
      "C:\\Users\\hyde1\\AppData\\Roaming\\Python\\Python311\\site-packages\\sklearn\\base.py:458: UserWarning: X has feature names, but RandomForestClassifier was fitted without feature names\n",
      "  warnings.warn(\n",
      "C:\\Users\\hyde1\\AppData\\Roaming\\Python\\Python311\\site-packages\\sklearn\\base.py:458: UserWarning: X has feature names, but RandomForestClassifier was fitted without feature names\n",
      "  warnings.warn(\n"
     ]
    },
    {
     "name": "stdout",
     "output_type": "stream",
     "text": [
      "Original Label Counts:\n",
      "label\n",
      "0.0    121157\n",
      "1.0      1427\n",
      "Name: count, dtype: int64\n",
      "\n",
      "New Label Counts:\n",
      "label\n",
      "1.0    1427\n",
      "0.0    1427\n",
      "Name: count, dtype: int64\n"
     ]
    },
    {
     "name": "stderr",
     "output_type": "stream",
     "text": [
      "C:\\Users\\hyde1\\AppData\\Roaming\\Python\\Python311\\site-packages\\sklearn\\base.py:458: UserWarning: X has feature names, but RandomForestClassifier was fitted without feature names\n",
      "  warnings.warn(\n",
      "C:\\Users\\hyde1\\AppData\\Roaming\\Python\\Python311\\site-packages\\sklearn\\base.py:458: UserWarning: X has feature names, but RandomForestClassifier was fitted without feature names\n",
      "  warnings.warn(\n"
     ]
    },
    {
     "name": "stdout",
     "output_type": "stream",
     "text": [
      "Original Label Counts:\n",
      "label\n",
      "0.0    121157\n",
      "1.0      1427\n",
      "Name: count, dtype: int64\n",
      "\n",
      "New Label Counts:\n",
      "label\n",
      "0.0    1427\n",
      "1.0    1427\n",
      "Name: count, dtype: int64\n"
     ]
    },
    {
     "name": "stderr",
     "output_type": "stream",
     "text": [
      "C:\\Users\\hyde1\\AppData\\Roaming\\Python\\Python311\\site-packages\\sklearn\\base.py:458: UserWarning: X has feature names, but RandomForestClassifier was fitted without feature names\n",
      "  warnings.warn(\n",
      "C:\\Users\\hyde1\\AppData\\Roaming\\Python\\Python311\\site-packages\\sklearn\\base.py:458: UserWarning: X has feature names, but RandomForestClassifier was fitted without feature names\n",
      "  warnings.warn(\n"
     ]
    },
    {
     "name": "stdout",
     "output_type": "stream",
     "text": [
      "Random-Forest with SMOTE:  0.7663072673369936\n",
      "Random-Forest no SMOTE:  0.75704262423293\n"
     ]
    },
    {
     "name": "stderr",
     "output_type": "stream",
     "text": [
      "C:\\Users\\hyde1\\AppData\\Roaming\\Python\\Python311\\site-packages\\sklearn\\neural_network\\_multilayer_perceptron.py:691: ConvergenceWarning: Stochastic Optimizer: Maximum iterations (200) reached and the optimization hasn't converged yet.\n",
      "  warnings.warn(\n",
      "C:\\Users\\hyde1\\AppData\\Roaming\\Python\\Python311\\site-packages\\sklearn\\neural_network\\_multilayer_perceptron.py:691: ConvergenceWarning: Stochastic Optimizer: Maximum iterations (200) reached and the optimization hasn't converged yet.\n",
      "  warnings.warn(\n",
      "C:\\Users\\hyde1\\AppData\\Roaming\\Python\\Python311\\site-packages\\sklearn\\neural_network\\_multilayer_perceptron.py:691: ConvergenceWarning: Stochastic Optimizer: Maximum iterations (200) reached and the optimization hasn't converged yet.\n",
      "  warnings.warn(\n",
      "C:\\Users\\hyde1\\AppData\\Roaming\\Python\\Python311\\site-packages\\sklearn\\neural_network\\_multilayer_perceptron.py:691: ConvergenceWarning: Stochastic Optimizer: Maximum iterations (200) reached and the optimization hasn't converged yet.\n",
      "  warnings.warn(\n"
     ]
    },
    {
     "name": "stdout",
     "output_type": "stream",
     "text": [
      "Original Label Counts:\n",
      "label\n",
      "0.0    121156\n",
      "1.0      1428\n",
      "Name: count, dtype: int64\n",
      "\n",
      "New Label Counts:\n",
      "label\n",
      "1.0    1428\n",
      "0.0    1428\n",
      "Name: count, dtype: int64\n"
     ]
    },
    {
     "name": "stderr",
     "output_type": "stream",
     "text": [
      "C:\\Users\\hyde1\\AppData\\Roaming\\Python\\Python311\\site-packages\\sklearn\\base.py:458: UserWarning: X has feature names, but MLPClassifier was fitted without feature names\n",
      "  warnings.warn(\n",
      "C:\\Users\\hyde1\\AppData\\Roaming\\Python\\Python311\\site-packages\\sklearn\\base.py:458: UserWarning: X has feature names, but MLPClassifier was fitted without feature names\n",
      "  warnings.warn(\n"
     ]
    },
    {
     "name": "stdout",
     "output_type": "stream",
     "text": [
      "Original Label Counts:\n",
      "label\n",
      "0.0    121157\n",
      "1.0      1427\n",
      "Name: count, dtype: int64\n",
      "\n",
      "New Label Counts:\n",
      "label\n",
      "1.0    1427\n",
      "0.0    1427\n",
      "Name: count, dtype: int64\n"
     ]
    },
    {
     "name": "stderr",
     "output_type": "stream",
     "text": [
      "C:\\Users\\hyde1\\AppData\\Roaming\\Python\\Python311\\site-packages\\sklearn\\base.py:458: UserWarning: X has feature names, but MLPClassifier was fitted without feature names\n",
      "  warnings.warn(\n",
      "C:\\Users\\hyde1\\AppData\\Roaming\\Python\\Python311\\site-packages\\sklearn\\base.py:458: UserWarning: X has feature names, but MLPClassifier was fitted without feature names\n",
      "  warnings.warn(\n"
     ]
    },
    {
     "name": "stdout",
     "output_type": "stream",
     "text": [
      "Original Label Counts:\n",
      "label\n",
      "0.0    121157\n",
      "1.0      1427\n",
      "Name: count, dtype: int64\n",
      "\n",
      "New Label Counts:\n",
      "label\n",
      "0.0    1427\n",
      "1.0    1427\n",
      "Name: count, dtype: int64\n"
     ]
    },
    {
     "name": "stderr",
     "output_type": "stream",
     "text": [
      "C:\\Users\\hyde1\\AppData\\Roaming\\Python\\Python311\\site-packages\\sklearn\\base.py:458: UserWarning: X has feature names, but MLPClassifier was fitted without feature names\n",
      "  warnings.warn(\n",
      "C:\\Users\\hyde1\\AppData\\Roaming\\Python\\Python311\\site-packages\\sklearn\\base.py:458: UserWarning: X has feature names, but MLPClassifier was fitted without feature names\n",
      "  warnings.warn(\n"
     ]
    },
    {
     "name": "stdout",
     "output_type": "stream",
     "text": [
      "Original Label Counts:\n",
      "label\n",
      "0.0    121157\n",
      "1.0      1427\n",
      "Name: count, dtype: int64\n",
      "\n",
      "New Label Counts:\n",
      "label\n",
      "1.0    1427\n",
      "0.0    1427\n",
      "Name: count, dtype: int64\n"
     ]
    },
    {
     "name": "stderr",
     "output_type": "stream",
     "text": [
      "C:\\Users\\hyde1\\AppData\\Roaming\\Python\\Python311\\site-packages\\sklearn\\base.py:458: UserWarning: X has feature names, but MLPClassifier was fitted without feature names\n",
      "  warnings.warn(\n",
      "C:\\Users\\hyde1\\AppData\\Roaming\\Python\\Python311\\site-packages\\sklearn\\base.py:458: UserWarning: X has feature names, but MLPClassifier was fitted without feature names\n",
      "  warnings.warn(\n"
     ]
    },
    {
     "name": "stdout",
     "output_type": "stream",
     "text": [
      "Original Label Counts:\n",
      "label\n",
      "0.0    121157\n",
      "1.0      1427\n",
      "Name: count, dtype: int64\n",
      "\n",
      "New Label Counts:\n",
      "label\n",
      "1.0    1427\n",
      "0.0    1427\n",
      "Name: count, dtype: int64\n"
     ]
    },
    {
     "name": "stderr",
     "output_type": "stream",
     "text": [
      "C:\\Users\\hyde1\\AppData\\Roaming\\Python\\Python311\\site-packages\\sklearn\\base.py:458: UserWarning: X has feature names, but MLPClassifier was fitted without feature names\n",
      "  warnings.warn(\n",
      "C:\\Users\\hyde1\\AppData\\Roaming\\Python\\Python311\\site-packages\\sklearn\\base.py:458: UserWarning: X has feature names, but MLPClassifier was fitted without feature names\n",
      "  warnings.warn(\n"
     ]
    },
    {
     "name": "stdout",
     "output_type": "stream",
     "text": [
      "MLP with SMOTE:  0.6304479452652763\n",
      "MLP no SMOTE:  0.6838452799476918\n",
      "Original Label Counts:\n",
      "label\n",
      "0.0    121156\n",
      "1.0      1428\n",
      "Name: count, dtype: int64\n",
      "\n",
      "New Label Counts:\n",
      "label\n",
      "0.0    1428\n",
      "1.0    1428\n",
      "Name: count, dtype: int64\n"
     ]
    },
    {
     "name": "stderr",
     "output_type": "stream",
     "text": [
      "C:\\Users\\hyde1\\AppData\\Roaming\\Python\\Python311\\site-packages\\sklearn\\base.py:458: UserWarning: X has feature names, but RandomForestClassifier was fitted without feature names\n",
      "  warnings.warn(\n",
      "C:\\Users\\hyde1\\AppData\\Roaming\\Python\\Python311\\site-packages\\sklearn\\base.py:458: UserWarning: X has feature names, but RandomForestClassifier was fitted without feature names\n",
      "  warnings.warn(\n"
     ]
    },
    {
     "name": "stdout",
     "output_type": "stream",
     "text": [
      "Original Label Counts:\n",
      "label\n",
      "0.0    121157\n",
      "1.0      1427\n",
      "Name: count, dtype: int64\n",
      "\n",
      "New Label Counts:\n",
      "label\n",
      "1.0    1427\n",
      "0.0    1427\n",
      "Name: count, dtype: int64\n"
     ]
    },
    {
     "name": "stderr",
     "output_type": "stream",
     "text": [
      "C:\\Users\\hyde1\\AppData\\Roaming\\Python\\Python311\\site-packages\\sklearn\\base.py:458: UserWarning: X has feature names, but RandomForestClassifier was fitted without feature names\n",
      "  warnings.warn(\n",
      "C:\\Users\\hyde1\\AppData\\Roaming\\Python\\Python311\\site-packages\\sklearn\\base.py:458: UserWarning: X has feature names, but RandomForestClassifier was fitted without feature names\n",
      "  warnings.warn(\n"
     ]
    },
    {
     "name": "stdout",
     "output_type": "stream",
     "text": [
      "Original Label Counts:\n",
      "label\n",
      "0.0    121157\n",
      "1.0      1427\n",
      "Name: count, dtype: int64\n",
      "\n",
      "New Label Counts:\n",
      "label\n",
      "0.0    1427\n",
      "1.0    1427\n",
      "Name: count, dtype: int64\n"
     ]
    },
    {
     "name": "stderr",
     "output_type": "stream",
     "text": [
      "C:\\Users\\hyde1\\AppData\\Roaming\\Python\\Python311\\site-packages\\sklearn\\base.py:458: UserWarning: X has feature names, but RandomForestClassifier was fitted without feature names\n",
      "  warnings.warn(\n",
      "C:\\Users\\hyde1\\AppData\\Roaming\\Python\\Python311\\site-packages\\sklearn\\base.py:458: UserWarning: X has feature names, but RandomForestClassifier was fitted without feature names\n",
      "  warnings.warn(\n"
     ]
    },
    {
     "name": "stdout",
     "output_type": "stream",
     "text": [
      "Original Label Counts:\n",
      "label\n",
      "0.0    121157\n",
      "1.0      1427\n",
      "Name: count, dtype: int64\n",
      "\n",
      "New Label Counts:\n",
      "label\n",
      "0.0    1427\n",
      "1.0    1427\n",
      "Name: count, dtype: int64\n"
     ]
    },
    {
     "name": "stderr",
     "output_type": "stream",
     "text": [
      "C:\\Users\\hyde1\\AppData\\Roaming\\Python\\Python311\\site-packages\\sklearn\\base.py:458: UserWarning: X has feature names, but RandomForestClassifier was fitted without feature names\n",
      "  warnings.warn(\n",
      "C:\\Users\\hyde1\\AppData\\Roaming\\Python\\Python311\\site-packages\\sklearn\\base.py:458: UserWarning: X has feature names, but RandomForestClassifier was fitted without feature names\n",
      "  warnings.warn(\n"
     ]
    },
    {
     "name": "stdout",
     "output_type": "stream",
     "text": [
      "Original Label Counts:\n",
      "label\n",
      "0.0    121157\n",
      "1.0      1427\n",
      "Name: count, dtype: int64\n",
      "\n",
      "New Label Counts:\n",
      "label\n",
      "1.0    1427\n",
      "0.0    1427\n",
      "Name: count, dtype: int64\n"
     ]
    },
    {
     "name": "stderr",
     "output_type": "stream",
     "text": [
      "C:\\Users\\hyde1\\AppData\\Roaming\\Python\\Python311\\site-packages\\sklearn\\base.py:458: UserWarning: X has feature names, but RandomForestClassifier was fitted without feature names\n",
      "  warnings.warn(\n",
      "C:\\Users\\hyde1\\AppData\\Roaming\\Python\\Python311\\site-packages\\sklearn\\base.py:458: UserWarning: X has feature names, but RandomForestClassifier was fitted without feature names\n",
      "  warnings.warn(\n"
     ]
    },
    {
     "name": "stdout",
     "output_type": "stream",
     "text": [
      "Random-Forest with SMOTE:  0.753650953721017\n",
      "Random-Forest no SMOTE:  0.757224201688445\n",
      "Original Label Counts:\n",
      "label\n",
      "0.0    121156\n",
      "1.0      1428\n",
      "Name: count, dtype: int64\n",
      "\n",
      "New Label Counts:\n",
      "label\n",
      "0.0    1428\n",
      "1.0    1428\n",
      "Name: count, dtype: int64\n"
     ]
    },
    {
     "name": "stderr",
     "output_type": "stream",
     "text": [
      "C:\\Users\\hyde1\\AppData\\Roaming\\Python\\Python311\\site-packages\\sklearn\\base.py:458: UserWarning: X has feature names, but MLPClassifier was fitted without feature names\n",
      "  warnings.warn(\n",
      "C:\\Users\\hyde1\\AppData\\Roaming\\Python\\Python311\\site-packages\\sklearn\\base.py:458: UserWarning: X has feature names, but MLPClassifier was fitted without feature names\n",
      "  warnings.warn(\n"
     ]
    },
    {
     "name": "stdout",
     "output_type": "stream",
     "text": [
      "Original Label Counts:\n",
      "label\n",
      "0.0    121157\n",
      "1.0      1427\n",
      "Name: count, dtype: int64\n",
      "\n",
      "New Label Counts:\n",
      "label\n",
      "1.0    1427\n",
      "0.0    1427\n",
      "Name: count, dtype: int64\n"
     ]
    },
    {
     "name": "stderr",
     "output_type": "stream",
     "text": [
      "C:\\Users\\hyde1\\AppData\\Roaming\\Python\\Python311\\site-packages\\sklearn\\base.py:458: UserWarning: X has feature names, but MLPClassifier was fitted without feature names\n",
      "  warnings.warn(\n",
      "C:\\Users\\hyde1\\AppData\\Roaming\\Python\\Python311\\site-packages\\sklearn\\base.py:458: UserWarning: X has feature names, but MLPClassifier was fitted without feature names\n",
      "  warnings.warn(\n"
     ]
    },
    {
     "name": "stdout",
     "output_type": "stream",
     "text": [
      "Original Label Counts:\n",
      "label\n",
      "0.0    121157\n",
      "1.0      1427\n",
      "Name: count, dtype: int64\n",
      "\n",
      "New Label Counts:\n",
      "label\n",
      "1.0    1427\n",
      "0.0    1427\n",
      "Name: count, dtype: int64\n"
     ]
    },
    {
     "name": "stderr",
     "output_type": "stream",
     "text": [
      "C:\\Users\\hyde1\\AppData\\Roaming\\Python\\Python311\\site-packages\\sklearn\\base.py:458: UserWarning: X has feature names, but MLPClassifier was fitted without feature names\n",
      "  warnings.warn(\n",
      "C:\\Users\\hyde1\\AppData\\Roaming\\Python\\Python311\\site-packages\\sklearn\\base.py:458: UserWarning: X has feature names, but MLPClassifier was fitted without feature names\n",
      "  warnings.warn(\n"
     ]
    },
    {
     "name": "stdout",
     "output_type": "stream",
     "text": [
      "Original Label Counts:\n",
      "label\n",
      "0.0    121157\n",
      "1.0      1427\n",
      "Name: count, dtype: int64\n",
      "\n",
      "New Label Counts:\n",
      "label\n",
      "0.0    1427\n",
      "1.0    1427\n",
      "Name: count, dtype: int64\n"
     ]
    },
    {
     "name": "stderr",
     "output_type": "stream",
     "text": [
      "C:\\Users\\hyde1\\AppData\\Roaming\\Python\\Python311\\site-packages\\sklearn\\base.py:458: UserWarning: X has feature names, but MLPClassifier was fitted without feature names\n",
      "  warnings.warn(\n",
      "C:\\Users\\hyde1\\AppData\\Roaming\\Python\\Python311\\site-packages\\sklearn\\base.py:458: UserWarning: X has feature names, but MLPClassifier was fitted without feature names\n",
      "  warnings.warn(\n"
     ]
    },
    {
     "name": "stdout",
     "output_type": "stream",
     "text": [
      "Original Label Counts:\n",
      "label\n",
      "0.0    121157\n",
      "1.0      1427\n",
      "Name: count, dtype: int64\n",
      "\n",
      "New Label Counts:\n",
      "label\n",
      "1.0    1427\n",
      "0.0    1427\n",
      "Name: count, dtype: int64\n"
     ]
    },
    {
     "name": "stderr",
     "output_type": "stream",
     "text": [
      "C:\\Users\\hyde1\\AppData\\Roaming\\Python\\Python311\\site-packages\\sklearn\\base.py:458: UserWarning: X has feature names, but MLPClassifier was fitted without feature names\n",
      "  warnings.warn(\n",
      "C:\\Users\\hyde1\\AppData\\Roaming\\Python\\Python311\\site-packages\\sklearn\\base.py:458: UserWarning: X has feature names, but MLPClassifier was fitted without feature names\n",
      "  warnings.warn(\n"
     ]
    },
    {
     "name": "stdout",
     "output_type": "stream",
     "text": [
      "MLP with SMOTE:  0.5185292100060261\n",
      "MLP no SMOTE:  0.5153614751321743\n",
      "Original Label Counts:\n",
      "label\n",
      "0.0    121156\n",
      "1.0      1428\n",
      "Name: count, dtype: int64\n",
      "\n",
      "New Label Counts:\n",
      "label\n",
      "1.0    1428\n",
      "0.0    1428\n",
      "Name: count, dtype: int64\n"
     ]
    },
    {
     "name": "stderr",
     "output_type": "stream",
     "text": [
      "C:\\Users\\hyde1\\AppData\\Roaming\\Python\\Python311\\site-packages\\sklearn\\base.py:458: UserWarning: X has feature names, but RandomForestClassifier was fitted without feature names\n",
      "  warnings.warn(\n",
      "C:\\Users\\hyde1\\AppData\\Roaming\\Python\\Python311\\site-packages\\sklearn\\base.py:458: UserWarning: X has feature names, but RandomForestClassifier was fitted without feature names\n",
      "  warnings.warn(\n"
     ]
    },
    {
     "name": "stdout",
     "output_type": "stream",
     "text": [
      "Original Label Counts:\n",
      "label\n",
      "0.0    121157\n",
      "1.0      1427\n",
      "Name: count, dtype: int64\n",
      "\n",
      "New Label Counts:\n",
      "label\n",
      "0.0    1427\n",
      "1.0    1427\n",
      "Name: count, dtype: int64\n"
     ]
    },
    {
     "name": "stderr",
     "output_type": "stream",
     "text": [
      "C:\\Users\\hyde1\\AppData\\Roaming\\Python\\Python311\\site-packages\\sklearn\\base.py:458: UserWarning: X has feature names, but RandomForestClassifier was fitted without feature names\n",
      "  warnings.warn(\n",
      "C:\\Users\\hyde1\\AppData\\Roaming\\Python\\Python311\\site-packages\\sklearn\\base.py:458: UserWarning: X has feature names, but RandomForestClassifier was fitted without feature names\n",
      "  warnings.warn(\n"
     ]
    },
    {
     "name": "stdout",
     "output_type": "stream",
     "text": [
      "Original Label Counts:\n",
      "label\n",
      "0.0    121157\n",
      "1.0      1427\n",
      "Name: count, dtype: int64\n",
      "\n",
      "New Label Counts:\n",
      "label\n",
      "0.0    1427\n",
      "1.0    1427\n",
      "Name: count, dtype: int64\n"
     ]
    },
    {
     "name": "stderr",
     "output_type": "stream",
     "text": [
      "C:\\Users\\hyde1\\AppData\\Roaming\\Python\\Python311\\site-packages\\sklearn\\base.py:458: UserWarning: X has feature names, but RandomForestClassifier was fitted without feature names\n",
      "  warnings.warn(\n",
      "C:\\Users\\hyde1\\AppData\\Roaming\\Python\\Python311\\site-packages\\sklearn\\base.py:458: UserWarning: X has feature names, but RandomForestClassifier was fitted without feature names\n",
      "  warnings.warn(\n"
     ]
    },
    {
     "name": "stdout",
     "output_type": "stream",
     "text": [
      "Original Label Counts:\n",
      "label\n",
      "0.0    121157\n",
      "1.0      1427\n",
      "Name: count, dtype: int64\n",
      "\n",
      "New Label Counts:\n",
      "label\n",
      "0.0    1427\n",
      "1.0    1427\n",
      "Name: count, dtype: int64\n"
     ]
    },
    {
     "name": "stderr",
     "output_type": "stream",
     "text": [
      "C:\\Users\\hyde1\\AppData\\Roaming\\Python\\Python311\\site-packages\\sklearn\\base.py:458: UserWarning: X has feature names, but RandomForestClassifier was fitted without feature names\n",
      "  warnings.warn(\n",
      "C:\\Users\\hyde1\\AppData\\Roaming\\Python\\Python311\\site-packages\\sklearn\\base.py:458: UserWarning: X has feature names, but RandomForestClassifier was fitted without feature names\n",
      "  warnings.warn(\n"
     ]
    },
    {
     "name": "stdout",
     "output_type": "stream",
     "text": [
      "Original Label Counts:\n",
      "label\n",
      "0.0    121157\n",
      "1.0      1427\n",
      "Name: count, dtype: int64\n",
      "\n",
      "New Label Counts:\n",
      "label\n",
      "1.0    1427\n",
      "0.0    1427\n",
      "Name: count, dtype: int64\n"
     ]
    },
    {
     "name": "stderr",
     "output_type": "stream",
     "text": [
      "C:\\Users\\hyde1\\AppData\\Roaming\\Python\\Python311\\site-packages\\sklearn\\base.py:458: UserWarning: X has feature names, but RandomForestClassifier was fitted without feature names\n",
      "  warnings.warn(\n",
      "C:\\Users\\hyde1\\AppData\\Roaming\\Python\\Python311\\site-packages\\sklearn\\base.py:458: UserWarning: X has feature names, but RandomForestClassifier was fitted without feature names\n",
      "  warnings.warn(\n"
     ]
    },
    {
     "name": "stdout",
     "output_type": "stream",
     "text": [
      "Random-Forest with SMOTE:  0.7642970960147643\n",
      "Random-Forest no SMOTE:  0.7676295291706383\n",
      "Original Label Counts:\n",
      "label\n",
      "0.0    121156\n",
      "1.0      1428\n",
      "Name: count, dtype: int64\n",
      "\n",
      "New Label Counts:\n",
      "label\n",
      "0.0    1428\n",
      "1.0    1428\n",
      "Name: count, dtype: int64\n"
     ]
    },
    {
     "name": "stderr",
     "output_type": "stream",
     "text": [
      "C:\\Users\\hyde1\\AppData\\Roaming\\Python\\Python311\\site-packages\\sklearn\\base.py:458: UserWarning: X has feature names, but MLPClassifier was fitted without feature names\n",
      "  warnings.warn(\n",
      "C:\\Users\\hyde1\\AppData\\Roaming\\Python\\Python311\\site-packages\\sklearn\\base.py:458: UserWarning: X has feature names, but MLPClassifier was fitted without feature names\n",
      "  warnings.warn(\n"
     ]
    },
    {
     "name": "stdout",
     "output_type": "stream",
     "text": [
      "Original Label Counts:\n",
      "label\n",
      "0.0    121157\n",
      "1.0      1427\n",
      "Name: count, dtype: int64\n",
      "\n",
      "New Label Counts:\n",
      "label\n",
      "1.0    1427\n",
      "0.0    1427\n",
      "Name: count, dtype: int64\n"
     ]
    },
    {
     "name": "stderr",
     "output_type": "stream",
     "text": [
      "C:\\Users\\hyde1\\AppData\\Roaming\\Python\\Python311\\site-packages\\sklearn\\base.py:458: UserWarning: X has feature names, but MLPClassifier was fitted without feature names\n",
      "  warnings.warn(\n",
      "C:\\Users\\hyde1\\AppData\\Roaming\\Python\\Python311\\site-packages\\sklearn\\base.py:458: UserWarning: X has feature names, but MLPClassifier was fitted without feature names\n",
      "  warnings.warn(\n"
     ]
    },
    {
     "name": "stdout",
     "output_type": "stream",
     "text": [
      "Original Label Counts:\n",
      "label\n",
      "0.0    121157\n",
      "1.0      1427\n",
      "Name: count, dtype: int64\n",
      "\n",
      "New Label Counts:\n",
      "label\n",
      "0.0    1427\n",
      "1.0    1427\n",
      "Name: count, dtype: int64\n"
     ]
    },
    {
     "name": "stderr",
     "output_type": "stream",
     "text": [
      "C:\\Users\\hyde1\\AppData\\Roaming\\Python\\Python311\\site-packages\\sklearn\\base.py:458: UserWarning: X has feature names, but MLPClassifier was fitted without feature names\n",
      "  warnings.warn(\n",
      "C:\\Users\\hyde1\\AppData\\Roaming\\Python\\Python311\\site-packages\\sklearn\\base.py:458: UserWarning: X has feature names, but MLPClassifier was fitted without feature names\n",
      "  warnings.warn(\n"
     ]
    },
    {
     "name": "stdout",
     "output_type": "stream",
     "text": [
      "Original Label Counts:\n",
      "label\n",
      "0.0    121157\n",
      "1.0      1427\n",
      "Name: count, dtype: int64\n",
      "\n",
      "New Label Counts:\n",
      "label\n",
      "0.0    1427\n",
      "1.0    1427\n",
      "Name: count, dtype: int64\n"
     ]
    },
    {
     "name": "stderr",
     "output_type": "stream",
     "text": [
      "C:\\Users\\hyde1\\AppData\\Roaming\\Python\\Python311\\site-packages\\sklearn\\base.py:458: UserWarning: X has feature names, but MLPClassifier was fitted without feature names\n",
      "  warnings.warn(\n",
      "C:\\Users\\hyde1\\AppData\\Roaming\\Python\\Python311\\site-packages\\sklearn\\base.py:458: UserWarning: X has feature names, but MLPClassifier was fitted without feature names\n",
      "  warnings.warn(\n"
     ]
    },
    {
     "name": "stdout",
     "output_type": "stream",
     "text": [
      "Original Label Counts:\n",
      "label\n",
      "0.0    121157\n",
      "1.0      1427\n",
      "Name: count, dtype: int64\n",
      "\n",
      "New Label Counts:\n",
      "label\n",
      "1.0    1427\n",
      "0.0    1427\n",
      "Name: count, dtype: int64\n"
     ]
    },
    {
     "name": "stderr",
     "output_type": "stream",
     "text": [
      "C:\\Users\\hyde1\\AppData\\Roaming\\Python\\Python311\\site-packages\\sklearn\\base.py:458: UserWarning: X has feature names, but MLPClassifier was fitted without feature names\n",
      "  warnings.warn(\n",
      "C:\\Users\\hyde1\\AppData\\Roaming\\Python\\Python311\\site-packages\\sklearn\\base.py:458: UserWarning: X has feature names, but MLPClassifier was fitted without feature names\n",
      "  warnings.warn(\n"
     ]
    },
    {
     "name": "stdout",
     "output_type": "stream",
     "text": [
      "MLP with SMOTE:  0.5192935066194375\n",
      "MLP no SMOTE:  0.525094245174963\n",
      "Original Label Counts:\n",
      "label\n",
      "0.0    121156\n",
      "1.0      1428\n",
      "Name: count, dtype: int64\n",
      "\n",
      "New Label Counts:\n",
      "label\n",
      "0.0    1428\n",
      "1.0    1428\n",
      "Name: count, dtype: int64\n"
     ]
    },
    {
     "name": "stderr",
     "output_type": "stream",
     "text": [
      "C:\\Users\\hyde1\\AppData\\Roaming\\Python\\Python311\\site-packages\\sklearn\\base.py:458: UserWarning: X has feature names, but RandomForestClassifier was fitted without feature names\n",
      "  warnings.warn(\n",
      "C:\\Users\\hyde1\\AppData\\Roaming\\Python\\Python311\\site-packages\\sklearn\\base.py:458: UserWarning: X has feature names, but RandomForestClassifier was fitted without feature names\n",
      "  warnings.warn(\n"
     ]
    },
    {
     "name": "stdout",
     "output_type": "stream",
     "text": [
      "Original Label Counts:\n",
      "label\n",
      "0.0    121157\n",
      "1.0      1427\n",
      "Name: count, dtype: int64\n",
      "\n",
      "New Label Counts:\n",
      "label\n",
      "1.0    1427\n",
      "0.0    1427\n",
      "Name: count, dtype: int64\n"
     ]
    },
    {
     "name": "stderr",
     "output_type": "stream",
     "text": [
      "C:\\Users\\hyde1\\AppData\\Roaming\\Python\\Python311\\site-packages\\sklearn\\base.py:458: UserWarning: X has feature names, but RandomForestClassifier was fitted without feature names\n",
      "  warnings.warn(\n",
      "C:\\Users\\hyde1\\AppData\\Roaming\\Python\\Python311\\site-packages\\sklearn\\base.py:458: UserWarning: X has feature names, but RandomForestClassifier was fitted without feature names\n",
      "  warnings.warn(\n"
     ]
    },
    {
     "name": "stdout",
     "output_type": "stream",
     "text": [
      "Original Label Counts:\n",
      "label\n",
      "0.0    121157\n",
      "1.0      1427\n",
      "Name: count, dtype: int64\n",
      "\n",
      "New Label Counts:\n",
      "label\n",
      "0.0    1427\n",
      "1.0    1427\n",
      "Name: count, dtype: int64\n"
     ]
    },
    {
     "name": "stderr",
     "output_type": "stream",
     "text": [
      "C:\\Users\\hyde1\\AppData\\Roaming\\Python\\Python311\\site-packages\\sklearn\\base.py:458: UserWarning: X has feature names, but RandomForestClassifier was fitted without feature names\n",
      "  warnings.warn(\n",
      "C:\\Users\\hyde1\\AppData\\Roaming\\Python\\Python311\\site-packages\\sklearn\\base.py:458: UserWarning: X has feature names, but RandomForestClassifier was fitted without feature names\n",
      "  warnings.warn(\n"
     ]
    },
    {
     "name": "stdout",
     "output_type": "stream",
     "text": [
      "Original Label Counts:\n",
      "label\n",
      "0.0    121157\n",
      "1.0      1427\n",
      "Name: count, dtype: int64\n",
      "\n",
      "New Label Counts:\n",
      "label\n",
      "1.0    1427\n",
      "0.0    1427\n",
      "Name: count, dtype: int64\n"
     ]
    },
    {
     "name": "stderr",
     "output_type": "stream",
     "text": [
      "C:\\Users\\hyde1\\AppData\\Roaming\\Python\\Python311\\site-packages\\sklearn\\base.py:458: UserWarning: X has feature names, but RandomForestClassifier was fitted without feature names\n",
      "  warnings.warn(\n",
      "C:\\Users\\hyde1\\AppData\\Roaming\\Python\\Python311\\site-packages\\sklearn\\base.py:458: UserWarning: X has feature names, but RandomForestClassifier was fitted without feature names\n",
      "  warnings.warn(\n"
     ]
    },
    {
     "name": "stdout",
     "output_type": "stream",
     "text": [
      "Original Label Counts:\n",
      "label\n",
      "0.0    121157\n",
      "1.0      1427\n",
      "Name: count, dtype: int64\n",
      "\n",
      "New Label Counts:\n",
      "label\n",
      "1.0    1427\n",
      "0.0    1427\n",
      "Name: count, dtype: int64\n"
     ]
    },
    {
     "name": "stderr",
     "output_type": "stream",
     "text": [
      "C:\\Users\\hyde1\\AppData\\Roaming\\Python\\Python311\\site-packages\\sklearn\\base.py:458: UserWarning: X has feature names, but RandomForestClassifier was fitted without feature names\n",
      "  warnings.warn(\n",
      "C:\\Users\\hyde1\\AppData\\Roaming\\Python\\Python311\\site-packages\\sklearn\\base.py:458: UserWarning: X has feature names, but RandomForestClassifier was fitted without feature names\n",
      "  warnings.warn(\n"
     ]
    },
    {
     "name": "stdout",
     "output_type": "stream",
     "text": [
      "Random-Forest with SMOTE:  0.7932878005972789\n",
      "Random-Forest no SMOTE:  0.7760062120930777\n",
      "Original Label Counts:\n",
      "label\n",
      "0.0    121156\n",
      "1.0      1428\n",
      "Name: count, dtype: int64\n",
      "\n",
      "New Label Counts:\n",
      "label\n",
      "1.0    1428\n",
      "0.0    1428\n",
      "Name: count, dtype: int64\n"
     ]
    },
    {
     "name": "stderr",
     "output_type": "stream",
     "text": [
      "C:\\Users\\hyde1\\AppData\\Roaming\\Python\\Python311\\site-packages\\sklearn\\base.py:458: UserWarning: X has feature names, but MLPClassifier was fitted without feature names\n",
      "  warnings.warn(\n",
      "C:\\Users\\hyde1\\AppData\\Roaming\\Python\\Python311\\site-packages\\sklearn\\base.py:458: UserWarning: X has feature names, but MLPClassifier was fitted without feature names\n",
      "  warnings.warn(\n"
     ]
    },
    {
     "name": "stdout",
     "output_type": "stream",
     "text": [
      "Original Label Counts:\n",
      "label\n",
      "0.0    121157\n",
      "1.0      1427\n",
      "Name: count, dtype: int64\n",
      "\n",
      "New Label Counts:\n",
      "label\n",
      "1.0    1427\n",
      "0.0    1427\n",
      "Name: count, dtype: int64\n"
     ]
    },
    {
     "name": "stderr",
     "output_type": "stream",
     "text": [
      "C:\\Users\\hyde1\\AppData\\Roaming\\Python\\Python311\\site-packages\\sklearn\\base.py:458: UserWarning: X has feature names, but MLPClassifier was fitted without feature names\n",
      "  warnings.warn(\n",
      "C:\\Users\\hyde1\\AppData\\Roaming\\Python\\Python311\\site-packages\\sklearn\\base.py:458: UserWarning: X has feature names, but MLPClassifier was fitted without feature names\n",
      "  warnings.warn(\n"
     ]
    },
    {
     "name": "stdout",
     "output_type": "stream",
     "text": [
      "Original Label Counts:\n",
      "label\n",
      "0.0    121157\n",
      "1.0      1427\n",
      "Name: count, dtype: int64\n",
      "\n",
      "New Label Counts:\n",
      "label\n",
      "0.0    1427\n",
      "1.0    1427\n",
      "Name: count, dtype: int64\n"
     ]
    },
    {
     "name": "stderr",
     "output_type": "stream",
     "text": [
      "C:\\Users\\hyde1\\AppData\\Roaming\\Python\\Python311\\site-packages\\sklearn\\base.py:458: UserWarning: X has feature names, but MLPClassifier was fitted without feature names\n",
      "  warnings.warn(\n",
      "C:\\Users\\hyde1\\AppData\\Roaming\\Python\\Python311\\site-packages\\sklearn\\base.py:458: UserWarning: X has feature names, but MLPClassifier was fitted without feature names\n",
      "  warnings.warn(\n"
     ]
    },
    {
     "name": "stdout",
     "output_type": "stream",
     "text": [
      "Original Label Counts:\n",
      "label\n",
      "0.0    121157\n",
      "1.0      1427\n",
      "Name: count, dtype: int64\n",
      "\n",
      "New Label Counts:\n",
      "label\n",
      "0.0    1427\n",
      "1.0    1427\n",
      "Name: count, dtype: int64\n"
     ]
    },
    {
     "name": "stderr",
     "output_type": "stream",
     "text": [
      "C:\\Users\\hyde1\\AppData\\Roaming\\Python\\Python311\\site-packages\\sklearn\\base.py:458: UserWarning: X has feature names, but MLPClassifier was fitted without feature names\n",
      "  warnings.warn(\n",
      "C:\\Users\\hyde1\\AppData\\Roaming\\Python\\Python311\\site-packages\\sklearn\\base.py:458: UserWarning: X has feature names, but MLPClassifier was fitted without feature names\n",
      "  warnings.warn(\n"
     ]
    },
    {
     "name": "stdout",
     "output_type": "stream",
     "text": [
      "Original Label Counts:\n",
      "label\n",
      "0.0    121157\n",
      "1.0      1427\n",
      "Name: count, dtype: int64\n",
      "\n",
      "New Label Counts:\n",
      "label\n",
      "1.0    1427\n",
      "0.0    1427\n",
      "Name: count, dtype: int64\n"
     ]
    },
    {
     "name": "stderr",
     "output_type": "stream",
     "text": [
      "C:\\Users\\hyde1\\AppData\\Roaming\\Python\\Python311\\site-packages\\sklearn\\base.py:458: UserWarning: X has feature names, but MLPClassifier was fitted without feature names\n",
      "  warnings.warn(\n",
      "C:\\Users\\hyde1\\AppData\\Roaming\\Python\\Python311\\site-packages\\sklearn\\base.py:458: UserWarning: X has feature names, but MLPClassifier was fitted without feature names\n",
      "  warnings.warn(\n"
     ]
    },
    {
     "name": "stdout",
     "output_type": "stream",
     "text": [
      "MLP with SMOTE:  0.5171943966198682\n",
      "MLP no SMOTE:  0.5082726606103574\n"
     ]
    }
   ],
   "source": [
    "num_features_list = [10, 30, 50, 80, 100, len(X.columns)]\n",
    "\n",
    "for num_features in num_features_list:\n",
    "    ## Testing Random forest with and without smote\n",
    "    results_oversampled = manual_crossValidation(X, y, num_features,use_classifier='randomForest',sampling=\"smote\")\n",
    "    results_undersampled = manual_crossValidation(X, y, num_features,use_classifier='randomForest',sampling=\"under\")\n",
    "\n",
    "    print(\"Random-Forest with SMOTE: \", results_oversampled[\"average_auc_score\"])\n",
    "    print(\"Random-Forest no SMOTE: \", results_undersampled[\"average_auc_score\"])\n",
    "\n",
    "    ## Testing MLP with and without smote\n",
    "    MLP_results_oversampled = manual_crossValidation(X, y, num_features,use_classifier='MLP', sampling=\"smote\")\n",
    "    MLP_results_undersampled = manual_crossValidation(X, y, num_features, use_classifier='MLP',sampling=\"under\")\n",
    "\n",
    "    print(\"MLP with SMOTE: \", MLP_results_oversampled[\"average_auc_score\"])\n",
    "    print(\"MLP no SMOTE: \", MLP_results_undersampled[\"average_auc_score\"])"
   ]
  },
  {
   "cell_type": "code",
   "execution_count": 57,
   "metadata": {},
   "outputs": [],
   "source": [
    "\n",
    "training_data = pd.read_csv('csvData/training_merged_fingerprints207.csv')\n",
    "test_data = pd.read_csv('csvData/test_merged_fingerprints207.csv')\n",
    "\n",
    "\n",
    "training_data, column_filter = dprep.create_column_filter(training_data)\n",
    "training_data, imputation = dprep.create_imputation(training_data)\n",
    "\n",
    "test_data_filtered = dprep.apply_column_filter(test_data, column_filter)\n",
    "test_data_preprocessed = dprep.apply_imputation(test_data_filtered, imputation)\n",
    "\n",
    "if 'INDEX' in test_data_preprocessed.columns:\n",
    "    test_data_preprocessed = test_data_preprocessed.drop(columns=[\"INDEX\"])\n",
    "\n",
    "X = training_data.drop(columns=[\"INDEX\", \"ACTIVE\"])\n",
    "y = training_data[\"ACTIVE\"]\n",
    "\n",
    "test_data_final = test_data_preprocessed[X.columns]\n",
    "test_data_final.replace([np.inf, -np.inf], np.nan, inplace=True)\n",
    "test_data_final.fillna(test_data_final.mean(), inplace=True)\n"
   ]
  },
  {
   "cell_type": "code",
   "execution_count": 58,
   "metadata": {},
   "outputs": [
    {
     "name": "stdout",
     "output_type": "stream",
     "text": [
      "153230\n",
      "51076\n"
     ]
    }
   ],
   "source": [
    "print(len(X))\n",
    "print(len(test_data_final))"
   ]
  },
  {
   "cell_type": "code",
   "execution_count": 60,
   "metadata": {},
   "outputs": [],
   "source": [
    "def write_predictions_to_txt(auc_estimate, predicted_probabilities, output_file_path='output.txt'):\n",
    "    with open(output_file_path, 'w') as file:\n",
    "        file.write(f\"{auc_estimate}\\n\")\n",
    "        for prob in predicted_probabilities:\n",
    "            file.write(f\"{prob}\\n\")"
   ]
  },
  {
   "cell_type": "code",
   "execution_count": 62,
   "metadata": {},
   "outputs": [],
   "source": [
    "from sklearn.metrics import roc_auc_score\n",
    "from imblearn.over_sampling import SMOTE\n",
    "from sklearn.ensemble import RandomForestClassifier\n",
    "from sklearn.model_selection import train_test_split\n",
    "\n",
    "\n",
    "\n",
    "def final_model(X_train, y_train, random_state=42):\n",
    "    \n",
    "    \n",
    "    smote = SMOTE(random_state=random_state)\n",
    "    X_train_smote, y_train_smote = smote.fit_resample(X_train, y_train)\n",
    "    \n",
    "    rf_classifier = RandomForestClassifier(bootstrap=False, max_depth=20, min_samples_leaf=2,min_samples_split=10,n_estimators=300,class_weight=\"balanced\",random_state=42)\n",
    "    rf_classifier.fit(X_train_smote, y_train_smote)\n",
    "    \n",
    "    return rf_classifier\n",
    "\n",
    "rf_model_smote = final_model(X, y, random_state=42)\n"
   ]
  },
  {
   "cell_type": "code",
   "execution_count": 61,
   "metadata": {},
   "outputs": [
    {
     "name": "stdout",
     "output_type": "stream",
     "text": [
      "[0.05660967 0.03301795 0.1458733  ... 0.01044888 0.0693356  0.09084364]\n"
     ]
    }
   ],
   "source": [
    "predicted_probabilities = rf_model_smote.predict_proba(test_data_final)[:, 1]\n",
    "auc_score = 0.79\n",
    "print(predicted_probabilities)\n",
    "\n",
    "\n",
    "write_predictions_to_txt(auc_score, predicted_probabilities, \"8.txt\")\n",
    "\n",
    "predictions_df = pd.read_csv(\"8.txt\", header=None)\n",
    "assert predictions_df.shape == (51077, 1)\n",
    "assert np.all((predictions_df.values >= 0) & (predictions_df.values <= 1))"
   ]
  }
 ],
 "metadata": {
  "kernelspec": {
   "display_name": "Python 3",
   "language": "python",
   "name": "python3"
  },
  "language_info": {
   "codemirror_mode": {
    "name": "ipython",
    "version": 3
   },
   "file_extension": ".py",
   "mimetype": "text/x-python",
   "name": "python",
   "nbconvert_exporter": "python",
   "pygments_lexer": "ipython3",
   "version": "3.11.5"
  }
 },
 "nbformat": 4,
 "nbformat_minor": 2
}
