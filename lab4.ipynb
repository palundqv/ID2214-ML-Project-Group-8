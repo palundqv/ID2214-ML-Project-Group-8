{
 "cells": [
  {
   "cell_type": "code",
   "execution_count": 1,
   "metadata": {},
   "outputs": [],
   "source": [
    "import pandas as pd\n",
    "from rdkit import Chem\n",
    "from rdkit.Chem import Descriptors, AllChem, Lipinski, Fragments"
   ]
  },
  {
   "cell_type": "code",
   "execution_count": 2,
   "metadata": {},
   "outputs": [],
   "source": [
    "training_data_path = 'training_smiles.csv'\n",
    "test_data_path = 'test_smiles.csv'\n",
    "\n",
    "training_data = pd.read_csv(training_data_path, dtype = {'ACTIVE': int})\n",
    "test_data = pd.read_csv(test_data_path)"
   ]
  },
  {
   "cell_type": "code",
   "execution_count": 3,
   "metadata": {},
   "outputs": [
    {
     "name": "stderr",
     "output_type": "stream",
     "text": [
      "[11:00:31] WARNING: not removing hydrogen atom without neighbors\n",
      "C:\\Users\\hyde1\\AppData\\Local\\Temp\\ipykernel_3452\\2814264457.py:18: FutureWarning: Returning a DataFrame from Series.apply when the supplied function returns a Series is deprecated and will be removed in a future version.\n",
      "  training_features_df = training_features_df.apply(pd.Series)\n"
     ]
    }
   ],
   "source": [
    "def extract_fingerprints(smiles):\n",
    "    mol = Chem.MolFromSmiles(smiles)\n",
    "\n",
    "    features = {}\n",
    "\n",
    "    # Try nBits 2048, 1024, 512, 256\n",
    "    # Morgan Fingerprint\n",
    "    morgan_fp = AllChem.GetMorganFingerprintAsBitVect(mol, 2, nBits=512)\n",
    "    for i in range(512):\n",
    "        features[f'fp_{i}'] = morgan_fp[i]\n",
    "\n",
    "    return features\n",
    "\n",
    "\n",
    "    \n",
    "training_features_df = training_data['SMILES'].apply(extract_fingerprints)\n",
    "\n",
    "training_features_df = training_features_df.apply(pd.Series)\n",
    "\n",
    "training_data_fingerprint = training_data.join(training_features_df)\n",
    "\n",
    "training_data_fingerprint.to_csv('training_data_fingerprint.csv', index=False)\n"
   ]
  },
  {
   "cell_type": "code",
   "execution_count": 4,
   "metadata": {},
   "outputs": [
    {
     "name": "stderr",
     "output_type": "stream",
     "text": [
      "[11:27:42] WARNING: not removing hydrogen atom without neighbors\n",
      "[11:27:42] WARNING: not removing hydrogen atom without neighbors\n",
      "[11:27:42] WARNING: not removing hydrogen atom without neighbors\n",
      "C:\\Users\\hyde1\\AppData\\Local\\Temp\\ipykernel_3452\\2222261554.py:40: FutureWarning: Returning a DataFrame from Series.apply when the supplied function returns a Series is deprecated and will be removed in a future version.\n",
      "  training_features_df = training_features_df.apply(pd.Series)\n"
     ]
    }
   ],
   "source": [
    "\n",
    "def extract_features(smiles):\n",
    "\n",
    "    mol = Chem.MolFromSmiles(smiles)\n",
    "\n",
    "    features = {}\n",
    "\n",
    "    # Basic Properties\n",
    "    features['num_atoms'] = mol.GetNumAtoms()\n",
    "    features['num_bonds'] = mol.GetNumBonds()\n",
    "    features['num_rings'] = mol.GetRingInfo().NumRings()\n",
    "\n",
    "    # Molecular Descriptors\n",
    "    for desc_name, desc_func in Descriptors.descList:\n",
    "        features[desc_name] = desc_func(mol)\n",
    "\n",
    "    # Lipinski Descriptors\n",
    "    features['num_rotatable_bonds'] = Lipinski.NumRotatableBonds(mol)\n",
    "    features['num_aromatic_rings'] = Lipinski.NumAromaticRings(mol)\n",
    "    features['num_heteroatoms'] = Lipinski.NumHeteroatoms(mol)\n",
    "    features['num_heavy_atoms'] = Lipinski.HeavyAtomCount(mol)\n",
    "    features['num_h_donors'] = Lipinski.NumHDonors(mol)\n",
    "    features['num_h_acceptors'] = Lipinski.NumHAcceptors(mol)\n",
    "    features['num_aliphatic_rings'] = Lipinski.NumAliphaticRings(mol)\n",
    "    features['num_saturated_rings'] = Lipinski.NumSaturatedRings(mol)\n",
    "    features['num_aromatic_heterocycles'] = Lipinski.NumAromaticHeterocycles(mol)\n",
    "    features['num_aromatic_carbocycles'] = Lipinski.NumAromaticCarbocycles(mol)\n",
    "    features['num_aliphatic_heterocycles'] = Lipinski.NumAliphaticHeterocycles(mol)\n",
    "    features['num_aliphatic_carbocycles'] = Lipinski.NumAliphaticCarbocycles(mol)\n",
    "\n",
    "    # Fragment Descriptors\n",
    "    for frag_func in dir(Fragments):\n",
    "        if frag_func.startswith('fr_'):\n",
    "            features[frag_func] = getattr(Fragments, frag_func)(mol)\n",
    "\n",
    "\n",
    "    return features\n",
    "\n",
    "training_features_df = training_data['SMILES'].apply(extract_features)\n",
    "\n",
    "training_features_df = training_features_df.apply(pd.Series)\n",
    "\n",
    "training_data_features = training_data.join(training_features_df)\n",
    "\n",
    "training_data_features.to_csv('training_data_features.csv', index=False)\n",
    "\n"
   ]
  }
 ],
 "metadata": {
  "kernelspec": {
   "display_name": "Python 3",
   "language": "python",
   "name": "python3"
  },
  "language_info": {
   "codemirror_mode": {
    "name": "ipython",
    "version": 3
   },
   "file_extension": ".py",
   "mimetype": "text/x-python",
   "name": "python",
   "nbconvert_exporter": "python",
   "pygments_lexer": "ipython3",
   "version": "3.11.5"
  }
 },
 "nbformat": 4,
 "nbformat_minor": 2
}
